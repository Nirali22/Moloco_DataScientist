{
  "nbformat": 4,
  "nbformat_minor": 0,
  "metadata": {
    "colab": {
      "name": "Moloco_Data_Scientist.ipynb",
      "provenance": [],
      "collapsed_sections": [],
      "toc_visible": true
    },
    "kernelspec": {
      "name": "python3",
      "display_name": "Python 3"
    }
  },
  "cells": [
    {
      "cell_type": "markdown",
      "metadata": {
        "id": "2gtoo3Znxphv",
        "colab_type": "text"
      },
      "source": [
        "#Moloco Data Scientist"
      ]
    },
    {
      "cell_type": "markdown",
      "metadata": {
        "id": "g52WtV_Dx1kT",
        "colab_type": "text"
      },
      "source": [
        "Q1"
      ]
    },
    {
      "cell_type": "code",
      "metadata": {
        "id": "4wNQ7Kv1vU6f",
        "colab_type": "code",
        "colab": {}
      },
      "source": [
        "import sys\n",
        "import os\n",
        "import pandas as pd\n",
        "import numpy as np\n"
      ],
      "execution_count": 0,
      "outputs": []
    },
    {
      "cell_type": "code",
      "metadata": {
        "id": "UPZ37bi0vr8e",
        "colab_type": "code",
        "colab": {}
      },
      "source": [
        "file_data = pd.read_csv('https://docs.google.com/spreadsheets/d/1AV-A1uhQqvF6h0_a-fupFQIHv6W7-vNm88AYh_WzeB0/export?format=csv&gid=1326833441')"
      ],
      "execution_count": 0,
      "outputs": []
    },
    {
      "cell_type": "code",
      "metadata": {
        "id": "KTj6qY6FwGa0",
        "colab_type": "code",
        "outputId": "d46e4a63-f0c4-49d7-cff8-a4a37492f923",
        "colab": {
          "base_uri": "https://localhost:8080/",
          "height": 204
        }
      },
      "source": [
        "file_data.head()"
      ],
      "execution_count": 58,
      "outputs": [
        {
          "output_type": "execute_result",
          "data": {
            "text/html": [
              "<div>\n",
              "<style scoped>\n",
              "    .dataframe tbody tr th:only-of-type {\n",
              "        vertical-align: middle;\n",
              "    }\n",
              "\n",
              "    .dataframe tbody tr th {\n",
              "        vertical-align: top;\n",
              "    }\n",
              "\n",
              "    .dataframe thead th {\n",
              "        text-align: right;\n",
              "    }\n",
              "</style>\n",
              "<table border=\"1\" class=\"dataframe\">\n",
              "  <thead>\n",
              "    <tr style=\"text-align: right;\">\n",
              "      <th></th>\n",
              "      <th>ts</th>\n",
              "      <th>user_id</th>\n",
              "      <th>country_id</th>\n",
              "      <th>site_id</th>\n",
              "    </tr>\n",
              "  </thead>\n",
              "  <tbody>\n",
              "    <tr>\n",
              "      <th>0</th>\n",
              "      <td>2019-02-01 00:01:24</td>\n",
              "      <td>LC36FC</td>\n",
              "      <td>TL6</td>\n",
              "      <td>N0OTG</td>\n",
              "    </tr>\n",
              "    <tr>\n",
              "      <th>1</th>\n",
              "      <td>2019-02-01 00:10:19</td>\n",
              "      <td>LC39B6</td>\n",
              "      <td>TL6</td>\n",
              "      <td>N0OTG</td>\n",
              "    </tr>\n",
              "    <tr>\n",
              "      <th>2</th>\n",
              "      <td>2019-02-01 00:21:50</td>\n",
              "      <td>LC3500</td>\n",
              "      <td>TL6</td>\n",
              "      <td>N0OTG</td>\n",
              "    </tr>\n",
              "    <tr>\n",
              "      <th>3</th>\n",
              "      <td>2019-02-01 00:22:50</td>\n",
              "      <td>LC374F</td>\n",
              "      <td>TL6</td>\n",
              "      <td>N0OTG</td>\n",
              "    </tr>\n",
              "    <tr>\n",
              "      <th>4</th>\n",
              "      <td>2019-02-01 00:23:44</td>\n",
              "      <td>LCC1C3</td>\n",
              "      <td>TL6</td>\n",
              "      <td>QGO3G</td>\n",
              "    </tr>\n",
              "  </tbody>\n",
              "</table>\n",
              "</div>"
            ],
            "text/plain": [
              "                    ts user_id country_id site_id\n",
              "0  2019-02-01 00:01:24  LC36FC        TL6   N0OTG\n",
              "1  2019-02-01 00:10:19  LC39B6        TL6   N0OTG\n",
              "2  2019-02-01 00:21:50  LC3500        TL6   N0OTG\n",
              "3  2019-02-01 00:22:50  LC374F        TL6   N0OTG\n",
              "4  2019-02-01 00:23:44  LCC1C3        TL6   QGO3G"
            ]
          },
          "metadata": {
            "tags": []
          },
          "execution_count": 58
        }
      ]
    },
    {
      "cell_type": "code",
      "metadata": {
        "id": "gdOc3Vohw3Ne",
        "colab_type": "code",
        "colab": {}
      },
      "source": [
        "file_data_BDV = file_data[file_data['country_id']=='BDV']\n",
        "assert len(file_data_BDV)==844"
      ],
      "execution_count": 0,
      "outputs": []
    },
    {
      "cell_type": "code",
      "metadata": {
        "id": "pRLxBKr6xKyj",
        "colab_type": "code",
        "outputId": "3caf0dc2-c846-40fd-8714-e771007f9cc5",
        "colab": {
          "base_uri": "https://localhost:8080/",
          "height": 85
        }
      },
      "source": [
        "file_data_BDV['site_id'].value_counts()"
      ],
      "execution_count": 60,
      "outputs": [
        {
          "output_type": "execute_result",
          "data": {
            "text/plain": [
              "5NPAU    717\n",
              "N0OTG    122\n",
              "3POLC      5\n",
              "Name: site_id, dtype: int64"
            ]
          },
          "metadata": {
            "tags": []
          },
          "execution_count": 60
        }
      ]
    },
    {
      "cell_type": "markdown",
      "metadata": {
        "id": "15NOzYzUx3vZ",
        "colab_type": "text"
      },
      "source": [
        "Q2"
      ]
    },
    {
      "cell_type": "code",
      "metadata": {
        "id": "iwv6mow5yCRT",
        "colab_type": "code",
        "outputId": "641575f0-70d0-461b-bab4-54db68fc4ba8",
        "colab": {
          "base_uri": "https://localhost:8080/",
          "height": 204
        }
      },
      "source": [
        "file2 = file_data[(file_data['ts']>'2019-02-03 00:00:00') & (file_data['ts']<'2019-02-04 23:59:59')]\n",
        "file2.head()"
      ],
      "execution_count": 61,
      "outputs": [
        {
          "output_type": "execute_result",
          "data": {
            "text/html": [
              "<div>\n",
              "<style scoped>\n",
              "    .dataframe tbody tr th:only-of-type {\n",
              "        vertical-align: middle;\n",
              "    }\n",
              "\n",
              "    .dataframe tbody tr th {\n",
              "        vertical-align: top;\n",
              "    }\n",
              "\n",
              "    .dataframe thead th {\n",
              "        text-align: right;\n",
              "    }\n",
              "</style>\n",
              "<table border=\"1\" class=\"dataframe\">\n",
              "  <thead>\n",
              "    <tr style=\"text-align: right;\">\n",
              "      <th></th>\n",
              "      <th>ts</th>\n",
              "      <th>user_id</th>\n",
              "      <th>country_id</th>\n",
              "      <th>site_id</th>\n",
              "    </tr>\n",
              "  </thead>\n",
              "  <tbody>\n",
              "    <tr>\n",
              "      <th>1049</th>\n",
              "      <td>2019-02-03 00:02:31</td>\n",
              "      <td>LC3C7E</td>\n",
              "      <td>TL6</td>\n",
              "      <td>3POLC</td>\n",
              "    </tr>\n",
              "    <tr>\n",
              "      <th>1050</th>\n",
              "      <td>2019-02-03 00:03:09</td>\n",
              "      <td>LC3C7E</td>\n",
              "      <td>TL6</td>\n",
              "      <td>3POLC</td>\n",
              "    </tr>\n",
              "    <tr>\n",
              "      <th>1051</th>\n",
              "      <td>2019-02-03 00:03:46</td>\n",
              "      <td>LC3C7E</td>\n",
              "      <td>TL6</td>\n",
              "      <td>3POLC</td>\n",
              "    </tr>\n",
              "    <tr>\n",
              "      <th>1052</th>\n",
              "      <td>2019-02-03 00:04:12</td>\n",
              "      <td>LC3C7E</td>\n",
              "      <td>TL6</td>\n",
              "      <td>3POLC</td>\n",
              "    </tr>\n",
              "    <tr>\n",
              "      <th>1053</th>\n",
              "      <td>2019-02-03 00:04:25</td>\n",
              "      <td>LC3C7E</td>\n",
              "      <td>TL6</td>\n",
              "      <td>3POLC</td>\n",
              "    </tr>\n",
              "  </tbody>\n",
              "</table>\n",
              "</div>"
            ],
            "text/plain": [
              "                       ts user_id country_id site_id\n",
              "1049  2019-02-03 00:02:31  LC3C7E        TL6   3POLC\n",
              "1050  2019-02-03 00:03:09  LC3C7E        TL6   3POLC\n",
              "1051  2019-02-03 00:03:46  LC3C7E        TL6   3POLC\n",
              "1052  2019-02-03 00:04:12  LC3C7E        TL6   3POLC\n",
              "1053  2019-02-03 00:04:25  LC3C7E        TL6   3POLC"
            ]
          },
          "metadata": {
            "tags": []
          },
          "execution_count": 61
        }
      ]
    },
    {
      "cell_type": "code",
      "metadata": {
        "id": "aFKhase-yPZP",
        "colab_type": "code",
        "outputId": "e0f013d8-42c4-4c21-fc70-c6f30c8751ce",
        "colab": {
          "base_uri": "https://localhost:8080/",
          "height": 278
        }
      },
      "source": [
        "file2.drop(columns = ['ts','country_id'],inplace=True)\n",
        "file3 = file2.groupby([\"user_id\", \"site_id\"]).size().reset_index(name='count')\n",
        "file3[file3['count']>10]"
      ],
      "execution_count": 62,
      "outputs": [
        {
          "output_type": "stream",
          "text": [
            "/usr/local/lib/python3.6/dist-packages/pandas/core/frame.py:4117: SettingWithCopyWarning: \n",
            "A value is trying to be set on a copy of a slice from a DataFrame\n",
            "\n",
            "See the caveats in the documentation: http://pandas.pydata.org/pandas-docs/stable/user_guide/indexing.html#returning-a-view-versus-a-copy\n",
            "  errors=errors,\n"
          ],
          "name": "stderr"
        },
        {
          "output_type": "execute_result",
          "data": {
            "text/html": [
              "<div>\n",
              "<style scoped>\n",
              "    .dataframe tbody tr th:only-of-type {\n",
              "        vertical-align: middle;\n",
              "    }\n",
              "\n",
              "    .dataframe tbody tr th {\n",
              "        vertical-align: top;\n",
              "    }\n",
              "\n",
              "    .dataframe thead th {\n",
              "        text-align: right;\n",
              "    }\n",
              "</style>\n",
              "<table border=\"1\" class=\"dataframe\">\n",
              "  <thead>\n",
              "    <tr style=\"text-align: right;\">\n",
              "      <th></th>\n",
              "      <th>user_id</th>\n",
              "      <th>site_id</th>\n",
              "      <th>count</th>\n",
              "    </tr>\n",
              "  </thead>\n",
              "  <tbody>\n",
              "    <tr>\n",
              "      <th>3</th>\n",
              "      <td>LC06C3</td>\n",
              "      <td>N0OTG</td>\n",
              "      <td>25</td>\n",
              "    </tr>\n",
              "    <tr>\n",
              "      <th>417</th>\n",
              "      <td>LC3A59</td>\n",
              "      <td>N0OTG</td>\n",
              "      <td>26</td>\n",
              "    </tr>\n",
              "    <tr>\n",
              "      <th>485</th>\n",
              "      <td>LC3C7E</td>\n",
              "      <td>3POLC</td>\n",
              "      <td>15</td>\n",
              "    </tr>\n",
              "    <tr>\n",
              "      <th>493</th>\n",
              "      <td>LC3C9D</td>\n",
              "      <td>N0OTG</td>\n",
              "      <td>17</td>\n",
              "    </tr>\n",
              "  </tbody>\n",
              "</table>\n",
              "</div>"
            ],
            "text/plain": [
              "    user_id site_id  count\n",
              "3    LC06C3   N0OTG     25\n",
              "417  LC3A59   N0OTG     26\n",
              "485  LC3C7E   3POLC     15\n",
              "493  LC3C9D   N0OTG     17"
            ]
          },
          "metadata": {
            "tags": []
          },
          "execution_count": 62
        }
      ]
    },
    {
      "cell_type": "markdown",
      "metadata": {
        "id": "EuH97i842vZy",
        "colab_type": "text"
      },
      "source": [
        "Q3"
      ]
    },
    {
      "cell_type": "code",
      "metadata": {
        "id": "gfLGms1a0DSG",
        "colab_type": "code",
        "colab": {}
      },
      "source": [
        "file_q3 = file_data.groupby(['user_id'],as_index=False).last()"
      ],
      "execution_count": 0,
      "outputs": []
    },
    {
      "cell_type": "code",
      "metadata": {
        "id": "PZ1NT9dZ3kqQ",
        "colab_type": "code",
        "outputId": "81d2d48d-4ea3-437e-8f1e-4620209cd69b",
        "colab": {
          "base_uri": "https://localhost:8080/",
          "height": 170
        }
      },
      "source": [
        "file_q3['site_id'].value_counts()"
      ],
      "execution_count": 89,
      "outputs": [
        {
          "output_type": "execute_result",
          "data": {
            "text/plain": [
              "5NPAU    992\n",
              "N0OTG    561\n",
              "QGO3G    289\n",
              "GVOFK     42\n",
              "3POLC     28\n",
              "RT9Z6      2\n",
              "JSUUP      1\n",
              "EUZ/Q      1\n",
              "Name: site_id, dtype: int64"
            ]
          },
          "metadata": {
            "tags": []
          },
          "execution_count": 89
        }
      ]
    },
    {
      "cell_type": "code",
      "metadata": {
        "id": "XyiP_kO35d8Z",
        "colab_type": "code",
        "colab": {}
      },
      "source": [
        "file_q3 = file_q3[['user_id','site_id']]"
      ],
      "execution_count": 0,
      "outputs": []
    },
    {
      "cell_type": "markdown",
      "metadata": {
        "id": "l0EJHqqC4ZIN",
        "colab_type": "text"
      },
      "source": [
        "Q4"
      ]
    },
    {
      "cell_type": "code",
      "metadata": {
        "id": "CDWzZJS3389P",
        "colab_type": "code",
        "colab": {}
      },
      "source": [
        "file_q4 = file_data.groupby(['user_id'],as_index=False).first()\n",
        "assert len(file_q4)==len(file_q3)"
      ],
      "execution_count": 0,
      "outputs": []
    },
    {
      "cell_type": "code",
      "metadata": {
        "id": "fiMsSwKG43uk",
        "colab_type": "code",
        "colab": {}
      },
      "source": [
        "file_q4 = file_q4[['user_id','site_id']]"
      ],
      "execution_count": 0,
      "outputs": []
    },
    {
      "cell_type": "code",
      "metadata": {
        "id": "YOGyS1Yv49Mr",
        "colab_type": "code",
        "colab": {}
      },
      "source": [
        "res = pd.merge(file_q3,file_q4,on='user_id')"
      ],
      "execution_count": 0,
      "outputs": []
    },
    {
      "cell_type": "code",
      "metadata": {
        "id": "75yX3rUI6PjV",
        "colab_type": "code",
        "colab": {}
      },
      "source": [
        "res1 = res[res['site_id_x']==res['site_id_y']]"
      ],
      "execution_count": 0,
      "outputs": []
    },
    {
      "cell_type": "code",
      "metadata": {
        "id": "cUi3PkFl8njU",
        "colab_type": "code",
        "colab": {
          "base_uri": "https://localhost:8080/",
          "height": 34
        },
        "outputId": "24d46634-106c-4c53-f5ef-05bc83335f69"
      },
      "source": [
        "len(res1)"
      ],
      "execution_count": 99,
      "outputs": [
        {
          "output_type": "execute_result",
          "data": {
            "text/plain": [
              "1670"
            ]
          },
          "metadata": {
            "tags": []
          },
          "execution_count": 99
        }
      ]
    },
    {
      "cell_type": "code",
      "metadata": {
        "id": "tPjjD3U490G7",
        "colab_type": "code",
        "colab": {}
      },
      "source": [
        ""
      ],
      "execution_count": 0,
      "outputs": []
    }
  ]
}
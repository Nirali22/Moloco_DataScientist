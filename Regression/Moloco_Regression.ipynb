{
  "nbformat": 4,
  "nbformat_minor": 0,
  "metadata": {
    "colab": {
      "name": "Moloco_Regression.ipynb",
      "provenance": []
    },
    "kernelspec": {
      "name": "python3",
      "display_name": "Python 3"
    }
  },
  "cells": [
    {
      "cell_type": "code",
      "metadata": {
        "id": "Z1mwGN2j_X7z",
        "colab_type": "code",
        "colab": {}
      },
      "source": [
        "import pandas as pd\n",
        "import numpy as np\n",
        "import matplotlib.pyplot as plt\n",
        "import numpy as np"
      ],
      "execution_count": 0,
      "outputs": []
    },
    {
      "cell_type": "code",
      "metadata": {
        "id": "GSAWInDl_hkG",
        "colab_type": "code",
        "colab": {}
      },
      "source": [
        "file_data = pd.read_csv('https://docs.google.com/spreadsheets/d/1AV-A1uhQqvF6h0_a-fupFQIHv6W7-vNm88AYh_WzeB0/export?format=csv&gid=1646189991',header=None)\n"
      ],
      "execution_count": 0,
      "outputs": []
    },
    {
      "cell_type": "code",
      "metadata": {
        "id": "jpk-zONy_z1o",
        "colab_type": "code",
        "colab": {}
      },
      "source": [
        "file_data.columns = ['A','B','C']"
      ],
      "execution_count": 0,
      "outputs": []
    },
    {
      "cell_type": "code",
      "metadata": {
        "id": "8MrZghh4AdXM",
        "colab_type": "code",
        "colab": {
          "base_uri": "https://localhost:8080/",
          "height": 204
        },
        "outputId": "f4b10982-c8ab-4d2d-b53f-1e9979a1c344"
      },
      "source": [
        "file_data.head()"
      ],
      "execution_count": 8,
      "outputs": [
        {
          "output_type": "execute_result",
          "data": {
            "text/html": [
              "<div>\n",
              "<style scoped>\n",
              "    .dataframe tbody tr th:only-of-type {\n",
              "        vertical-align: middle;\n",
              "    }\n",
              "\n",
              "    .dataframe tbody tr th {\n",
              "        vertical-align: top;\n",
              "    }\n",
              "\n",
              "    .dataframe thead th {\n",
              "        text-align: right;\n",
              "    }\n",
              "</style>\n",
              "<table border=\"1\" class=\"dataframe\">\n",
              "  <thead>\n",
              "    <tr style=\"text-align: right;\">\n",
              "      <th></th>\n",
              "      <th>A</th>\n",
              "      <th>B</th>\n",
              "      <th>C</th>\n",
              "    </tr>\n",
              "  </thead>\n",
              "  <tbody>\n",
              "    <tr>\n",
              "      <th>0</th>\n",
              "      <td>0.490</td>\n",
              "      <td>-0.18</td>\n",
              "      <td>11.50</td>\n",
              "    </tr>\n",
              "    <tr>\n",
              "      <th>1</th>\n",
              "      <td>-1.410</td>\n",
              "      <td>-1.23</td>\n",
              "      <td>11.80</td>\n",
              "    </tr>\n",
              "    <tr>\n",
              "      <th>2</th>\n",
              "      <td>0.943</td>\n",
              "      <td>4.51</td>\n",
              "      <td>-3.24</td>\n",
              "    </tr>\n",
              "    <tr>\n",
              "      <th>3</th>\n",
              "      <td>3.570</td>\n",
              "      <td>5.07</td>\n",
              "      <td>-23.90</td>\n",
              "    </tr>\n",
              "    <tr>\n",
              "      <th>4</th>\n",
              "      <td>-1.700</td>\n",
              "      <td>6.91</td>\n",
              "      <td>-22.10</td>\n",
              "    </tr>\n",
              "  </tbody>\n",
              "</table>\n",
              "</div>"
            ],
            "text/plain": [
              "       A     B      C\n",
              "0  0.490 -0.18  11.50\n",
              "1 -1.410 -1.23  11.80\n",
              "2  0.943  4.51  -3.24\n",
              "3  3.570  5.07 -23.90\n",
              "4 -1.700  6.91 -22.10"
            ]
          },
          "metadata": {
            "tags": []
          },
          "execution_count": 8
        }
      ]
    },
    {
      "cell_type": "markdown",
      "metadata": {
        "id": "DSnO6FoZJIz-",
        "colab_type": "text"
      },
      "source": [
        "#Analyze"
      ]
    },
    {
      "cell_type": "code",
      "metadata": {
        "id": "3Ku9IdcMEYhM",
        "colab_type": "code",
        "colab": {
          "base_uri": "https://localhost:8080/",
          "height": 85
        },
        "outputId": "8a815805-f52c-46ec-aee5-01fc02fde953"
      },
      "source": [
        "file_data.mean()"
      ],
      "execution_count": 14,
      "outputs": [
        {
          "output_type": "execute_result",
          "data": {
            "text/plain": [
              "A     2.317009\n",
              "B     2.013115\n",
              "C   -41.564919\n",
              "dtype: float64"
            ]
          },
          "metadata": {
            "tags": []
          },
          "execution_count": 14
        }
      ]
    },
    {
      "cell_type": "code",
      "metadata": {
        "id": "MgqQZgaLEl7N",
        "colab_type": "code",
        "colab": {
          "base_uri": "https://localhost:8080/",
          "height": 85
        },
        "outputId": "687ab895-90f6-4bc9-c8c5-f97b9eb11186"
      },
      "source": [
        "file_data.median()"
      ],
      "execution_count": 15,
      "outputs": [
        {
          "output_type": "execute_result",
          "data": {
            "text/plain": [
              "A    0.4685\n",
              "B    1.9350\n",
              "C   -3.0900\n",
              "dtype: float64"
            ]
          },
          "metadata": {
            "tags": []
          },
          "execution_count": 15
        }
      ]
    },
    {
      "cell_type": "markdown",
      "metadata": {
        "id": "rv-x38ErFH7u",
        "colab_type": "text"
      },
      "source": [
        "This differenc can be due to the presence of an outlier while measuring C"
      ]
    },
    {
      "cell_type": "code",
      "metadata": {
        "id": "VJ7gu70EFPwN",
        "colab_type": "code",
        "colab": {
          "base_uri": "https://localhost:8080/",
          "height": 34
        },
        "outputId": "9885b898-38cb-4ef0-ab5c-2cdb50b886af"
      },
      "source": [
        "file_data['C'].min()"
      ],
      "execution_count": 16,
      "outputs": [
        {
          "output_type": "execute_result",
          "data": {
            "text/plain": [
              "-10000.0"
            ]
          },
          "metadata": {
            "tags": []
          },
          "execution_count": 16
        }
      ]
    },
    {
      "cell_type": "code",
      "metadata": {
        "id": "UUdpjE5lBAZm",
        "colab_type": "code",
        "colab": {
          "base_uri": "https://localhost:8080/",
          "height": 296
        },
        "outputId": "e48a3520-798d-4b2b-bde4-28854bb24d6e"
      },
      "source": [
        "file_data.plot(x='A',y='C')"
      ],
      "execution_count": 13,
      "outputs": [
        {
          "output_type": "execute_result",
          "data": {
            "text/plain": [
              "<matplotlib.axes._subplots.AxesSubplot at 0x7fcb6cef1a90>"
            ]
          },
          "metadata": {
            "tags": []
          },
          "execution_count": 13
        },
        {
          "output_type": "display_data",
          "data": {
            "image/png": "[encoded data removed]",
            "text/plain": [
              "<Figure size 432x288 with 1 Axes>"
            ]
          },
          "metadata": {
            "tags": []
          }
        }
      ]
    },
    {
      "cell_type": "markdown",
      "metadata": {
        "id": "3GRcVaPxE6gX",
        "colab_type": "text"
      },
      "source": [
        "We see an outlier when C = -10000. We need to remove it as it will affect our model's performance"
      ]
    },
    {
      "cell_type": "code",
      "metadata": {
        "id": "Xh6r0Je9DiRR",
        "colab_type": "code",
        "colab": {}
      },
      "source": [
        "file_data = file_data[file_data['C']!=-10000]"
      ],
      "execution_count": 0,
      "outputs": []
    },
    {
      "cell_type": "code",
      "metadata": {
        "id": "5vTFIggoFarr",
        "colab_type": "code",
        "colab": {
          "base_uri": "https://localhost:8080/",
          "height": 295
        },
        "outputId": "57509a64-1d23-4a77-ae4e-75d59149e3c2"
      },
      "source": [
        "_=plt.scatter(file_data['A'],file_data['C'])\n",
        "_=plt.xlabel('A')\n",
        "_=plt.ylabel('C')\n",
        "_=plt.title('Variation of C with A')"
      ],
      "execution_count": 23,
      "outputs": [
        {
          "output_type": "display_data",
          "data": {
            "image/png": "[encoded data removed]",
            "text/plain": [
              "<Figure size 432x288 with 1 Axes>"
            ]
          },
          "metadata": {
            "tags": []
          }
        }
      ]
    },
    {
      "cell_type": "markdown",
      "metadata": {
        "id": "v6jcXRZiF0Tt",
        "colab_type": "text"
      },
      "source": [
        "From this scatterplot, it is evident that we cannot calculate the value of C from the value of A alone. A linear relationship between A and C is not currently visible."
      ]
    },
    {
      "cell_type": "code",
      "metadata": {
        "id": "vZri5DOxFcxx",
        "colab_type": "code",
        "colab": {
          "base_uri": "https://localhost:8080/",
          "height": 295
        },
        "outputId": "e73c09e7-0de3-4094-be91-3376f065c4a4"
      },
      "source": [
        "_=plt.scatter(file_data['B'],file_data['C'])\n",
        "_=plt.xlabel('B')\n",
        "_=plt.ylabel('C')\n",
        "_=plt.title('Variation of C with B')"
      ],
      "execution_count": 25,
      "outputs": [
        {
          "output_type": "display_data",
          "data": {
            "image/png": "[encoded data removed]",
            "text/plain": [
              "<Figure size 432x288 with 1 Axes>"
            ]
          },
          "metadata": {
            "tags": []
          }
        }
      ]
    },
    {
      "cell_type": "markdown",
      "metadata": {
        "id": "uN9LhwcvGweE",
        "colab_type": "text"
      },
      "source": [
        "From this plot, we can see that most values of C lie close to 0 irrespective of the value of B. Also, when B<1, the value of C tends to be greater than 0 while C tends to be in the negative range when B>1."
      ]
    },
    {
      "cell_type": "markdown",
      "metadata": {
        "id": "D9RKVA49IsnP",
        "colab_type": "text"
      },
      "source": [
        "From the plots above, we find that the scales/range of A and B differ. Hence to eliminate the effect of these scales on our model, we will normalize the data -> Getting their scale to [0,1]"
      ]
    },
    {
      "cell_type": "code",
      "metadata": {
        "id": "v7XeU_9sGmAk",
        "colab_type": "code",
        "colab": {
          "base_uri": "https://localhost:8080/",
          "height": 204
        },
        "outputId": "5bb20915-ce1d-4378-8df6-c3203edd674b"
      },
      "source": [
        "file_data = (file_data - file_data.mean())/file_data.std()\n",
        "file_data.head()"
      ],
      "execution_count": 26,
      "outputs": [
        {
          "output_type": "execute_result",
          "data": {
            "text/html": [
              "<div>\n",
              "<style scoped>\n",
              "    .dataframe tbody tr th:only-of-type {\n",
              "        vertical-align: middle;\n",
              "    }\n",
              "\n",
              "    .dataframe tbody tr th {\n",
              "        vertical-align: top;\n",
              "    }\n",
              "\n",
              "    .dataframe thead th {\n",
              "        text-align: right;\n",
              "    }\n",
              "</style>\n",
              "<table border=\"1\" class=\"dataframe\">\n",
              "  <thead>\n",
              "    <tr style=\"text-align: right;\">\n",
              "      <th></th>\n",
              "      <th>A</th>\n",
              "      <th>B</th>\n",
              "      <th>C</th>\n",
              "    </tr>\n",
              "  </thead>\n",
              "  <tbody>\n",
              "    <tr>\n",
              "      <th>0</th>\n",
              "      <td>-0.316690</td>\n",
              "      <td>-0.737365</td>\n",
              "      <td>0.277041</td>\n",
              "    </tr>\n",
              "    <tr>\n",
              "      <th>1</th>\n",
              "      <td>-0.650791</td>\n",
              "      <td>-1.088118</td>\n",
              "      <td>0.281248</td>\n",
              "    </tr>\n",
              "    <tr>\n",
              "      <th>2</th>\n",
              "      <td>-0.237033</td>\n",
              "      <td>0.829336</td>\n",
              "      <td>0.070373</td>\n",
              "    </tr>\n",
              "    <tr>\n",
              "      <th>3</th>\n",
              "      <td>0.224907</td>\n",
              "      <td>1.016405</td>\n",
              "      <td>-0.219300</td>\n",
              "    </tr>\n",
              "    <tr>\n",
              "      <th>4</th>\n",
              "      <td>-0.701786</td>\n",
              "      <td>1.631059</td>\n",
              "      <td>-0.194062</td>\n",
              "    </tr>\n",
              "  </tbody>\n",
              "</table>\n",
              "</div>"
            ],
            "text/plain": [
              "          A         B         C\n",
              "0 -0.316690 -0.737365  0.277041\n",
              "1 -0.650791 -1.088118  0.281248\n",
              "2 -0.237033  0.829336  0.070373\n",
              "3  0.224907  1.016405 -0.219300\n",
              "4 -0.701786  1.631059 -0.194062"
            ]
          },
          "metadata": {
            "tags": []
          },
          "execution_count": 26
        }
      ]
    },
    {
      "cell_type": "markdown",
      "metadata": {
        "id": "Z4IYHOpcJxTk",
        "colab_type": "text"
      },
      "source": [
        "#Model"
      ]
    },
    {
      "cell_type": "code",
      "metadata": {
        "id": "kDbf5-blJdNf",
        "colab_type": "code",
        "colab": {}
      },
      "source": [
        "#Setting X as input and y as output\n",
        "X = file_data.iloc[:,0:2]\n",
        "y = file_data.iloc[:,2:3].values\n",
        "\n",
        "#Since I can't use in built libraries like scikit-learn, I will use Y= beta*X where y,beta,X are matrices. beta includes beta0,beta1,beta2\n",
        "# Y = beta0 + beta1*X1 + beta2*X2\n",
        "ones = np.ones([X.shape[0],1])\n",
        "X = np.concatenate((ones,X),axis=1)\n",
        "\n",
        "# Initializing all coefficients to 0\n",
        "beta = np.zeros([1,3])"
      ],
      "execution_count": 0,
      "outputs": []
    },
    {
      "cell_type": "code",
      "metadata": {
        "id": "SMWnkIgCLAnk",
        "colab_type": "code",
        "colab": {}
      },
      "source": [
        "# I will use the gradient descent algorithm to reduce the error. Alpha denotes the rate at which we will move towards the minima (i.e step size)\n",
        "alpha = 0.01\n",
        "#Assuming model wil converge in 1000 iterations\n",
        "iterations  = 1000"
      ],
      "execution_count": 0,
      "outputs": []
    },
    {
      "cell_type": "code",
      "metadata": {
        "id": "9EJuMbywLvG4",
        "colab_type": "code",
        "colab": {}
      },
      "source": [
        "# Now, we need to create a function to compute the error produced by the model with the calculated coefficients.\n",
        "# Cost is summation of difference between predicted value and actual value for all the values. Effectively, y-beta*X\n",
        "def Cost(X,y,beta):\n",
        "  error = np.power(((X @ beta.T)-y),2)\n",
        "  return np.sum(error)/(2 * len(X))\n"
      ],
      "execution_count": 0,
      "outputs": []
    },
    {
      "cell_type": "code",
      "metadata": {
        "id": "wXjQURlmMsfW",
        "colab_type": "code",
        "colab": {}
      },
      "source": [
        "#Next, I am creating a gradient descent algorithm\n",
        "# I am storing the cost at each iteration so that I can visualize the costs later to see if my model is working well. (Cost should decrease with time)\n",
        "# In each iteration, I am updating beta. After 1000 iterations, I am returning the final beta and all the cost values. \n",
        "def gradientDescent(X,y,beta,iterations,alpha):\n",
        "    cost = np.zeros(iterations)\n",
        "    for i in range(iterations):\n",
        "        beta = beta - (alpha/len(X)) * np.sum(X * (X @ beta.T - y), axis=0)\n",
        "        cost[i] = Cost(X, y, beta)\n",
        "    \n",
        "    return beta,cost\n"
      ],
      "execution_count": 0,
      "outputs": []
    },
    {
      "cell_type": "code",
      "metadata": {
        "id": "3xkLYUnHOHFl",
        "colab_type": "code",
        "colab": {}
      },
      "source": [
        "#Calling the gradient descent algorithm using input, output, initial beta, alpha and iterations.\n",
        "coefficients,cost = gradientDescent(X,y,beta,iterations,alpha)"
      ],
      "execution_count": 0,
      "outputs": []
    },
    {
      "cell_type": "code",
      "metadata": {
        "id": "quJbF81eOgZr",
        "colab_type": "code",
        "colab": {
          "base_uri": "https://localhost:8080/",
          "height": 34
        },
        "outputId": "664277b9-5450-4f5f-8202-71a1a7b2009d"
      },
      "source": [
        "#These are the coefficients to be used\n",
        "print(coefficients)"
      ],
      "execution_count": 52,
      "outputs": [
        {
          "output_type": "stream",
          "text": [
            "[[-4.09378960e-16 -1.08868001e-01 -6.38789467e-01]]\n"
          ],
          "name": "stdout"
        }
      ]
    },
    {
      "cell_type": "markdown",
      "metadata": {
        "id": "l3GIzkkQR7rE",
        "colab_type": "text"
      },
      "source": [
        "Intercept: close to 0,\n",
        "coefficient of A : -0.1088,\n",
        "coefficient of B : -0.6388"
      ]
    },
    {
      "cell_type": "code",
      "metadata": {
        "id": "zr11W68qPZ4S",
        "colab_type": "code",
        "colab": {
          "base_uri": "https://localhost:8080/",
          "height": 34
        },
        "outputId": "7aa7dd27-c3ab-4c0c-961e-bf193a38aac2"
      },
      "source": [
        "#Final error of the model\n",
        "model_error = Cost(X,y,coefficients)\n",
        "print(model_error)"
      ],
      "execution_count": 53,
      "outputs": [
        {
          "output_type": "stream",
          "text": [
            "0.30197556383932933\n"
          ],
          "name": "stdout"
        }
      ]
    },
    {
      "cell_type": "code",
      "metadata": {
        "id": "vhK602hIPvTb",
        "colab_type": "code",
        "colab": {
          "base_uri": "https://localhost:8080/",
          "height": 295
        },
        "outputId": "e6830b5a-dd7d-4b91-f2d8-24ef2c146ca6"
      },
      "source": [
        "#Plotting cost function\n",
        "iters = np.arange(iterations)\n",
        "_=plt.plot(iters,cost)\n",
        "_=plt.xlabel('Iterations')\n",
        "_=plt.ylabel('Cost')\n",
        "_=plt.title('Error per iteration')"
      ],
      "execution_count": 55,
      "outputs": [
        {
          "output_type": "display_data",
          "data": {
            "image/png": "[encoded data removed]",
            "text/plain": [
              "<Figure size 432x288 with 1 Axes>"
            ]
          },
          "metadata": {
            "tags": []
          }
        }
      ]
    },
    {
      "cell_type": "markdown",
      "metadata": {
        "id": "O0t4ir2cRddn",
        "colab_type": "text"
      },
      "source": [
        "Equation of model is :\n",
        "C = -0.1088*A - 0.6388*B   (Since intercept is close to 0)"
      ]
    },
    {
      "cell_type": "code",
      "metadata": {
        "id": "HHzPTs1gQhJL",
        "colab_type": "code",
        "colab": {}
      },
      "source": [
        ""
      ],
      "execution_count": 0,
      "outputs": []
    }
  ]
}